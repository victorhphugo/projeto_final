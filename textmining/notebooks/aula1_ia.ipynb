{
 "cells": [
  {
   "cell_type": "markdown",
   "metadata": {},
   "source": [
    "# inteligencia artificial(guarda-chuva)\n",
    "- Imitação do humano\n",
    "- Ajuda o ser humano na produtividade\n",
    "- imitar a Inteligencia Humana\n",
    "- Reconhecer padrões e resolver problemas \n",
    "\n",
    "# Machine learning \n",
    "    - Supervisionado: dados (Rotulados)\n",
    "    - Nao Supervisionado: sem dados rotulado\n",
    "\n",
    "# Deep Learning\n",
    "- A diferença ele possui redes neurais.\n",
    "\n",
    "# O que voce pode fazer:\n",
    "## 1- Transformar texto em audio(falar).\n",
    "## 2- Identificar e comparar imagens e objetos (ver).\n",
    "## 3- Aplicar física(raio cósmico): modelos que encapsulam funções - Velocidade de processamento e entendimento da função.\n",
    "## 4- Engenharia Civil encapsula funções\n",
    "## 5- Mídia sociais - estão te ouvindo\n",
    "## 6- Policia \n",
    "    viés : restrições \n",
    "    variância: flexibilidade\n",
    "    Underfitting\n",
    "    Overfitting\n",
    "\n",
    "## 7-jogos\n",
    "## - supervisionado\n",
    "## - Não supervisionado\n",
    "## - Por refoço\n",
    "## - Xadres\n",
    "\n",
    "        - ias para o mercado de trabalho sao recomendadas : \n",
    "        -  ias para jogos pode ser recomendada ias por reforço . \n",
    "- Inferir especies de uma flor a partir das medidas desta;\n",
    "- Dataset: Iris\n",
    "- Trasnformar um digito escrito a mao em texto (streng)\n",
    "- Recomendação filmes - base dataset de avaliações \n",
    "- Analisar sentimentos\n",
    "- Detectar objetos\n",
    "- treinarum taxi autônomo\n",
    "\n",
    "# Metricas ...\n",
    "\n",
    "- Métrica é uma régua para medir o desempenho dos nossos modelos.\n",
    "- Função de custo e Otimizadores (diserne se a predição é boa ou ruim) - Erro do quadrado médio \n",
    "\n",
    "# Terminologias \n",
    "\n",
    "- Ciencia de Dados : campo academico interdiciplinar para sugestoes de insights e tomada de decisão.\n",
    "- Overffiting: aprendeu demais \n",
    "- Underffiting : nao aprendeu \n",
    "- Vies : restrições impostas na função \n",
    "- Variancia : flexibilidade da tecnica em se adequar \n",
    "# Dataset: Irís \n",
    "\n"
   ]
  },
  {
   "cell_type": "code",
   "execution_count": 7,
   "metadata": {},
   "outputs": [],
   "source": [
    "! pip install pandas"
   ]
  },
  {
   "cell_type": "code",
   "execution_count": 6,
   "metadata": {},
   "outputs": [
    {
     "ename": "ModuleNotFoundError",
     "evalue": "No module named 'pandas'",
     "output_type": "error",
     "traceback": [
      "\u001b[1;31m---------------------------------------------------------------------------\u001b[0m",
      "\u001b[1;31mModuleNotFoundError\u001b[0m                       Traceback (most recent call last)",
      "Cell \u001b[1;32mIn[6], line 1\u001b[0m\n\u001b[1;32m----> 1\u001b[0m \u001b[38;5;28;01mimport\u001b[39;00m \u001b[38;5;21;01mpandas\u001b[39;00m \u001b[38;5;28;01mas\u001b[39;00m \u001b[38;5;21;01mpd\u001b[39;00m\n",
      "\u001b[1;31mModuleNotFoundError\u001b[0m: No module named 'pandas'"
     ]
    }
   ],
   "source": [
    "import pandas as pd"
   ]
  },
  {
   "cell_type": "code",
   "execution_count": 2,
   "metadata": {},
   "outputs": [],
   "source": [
    "url = \"https://gist.githubusercontent.com/netj/8836201/raw/6f9306ad21398ea43cba4f7d537619d0e07d5ae3/iris.csv\"\n",
    "pd.read_csv(url)"
   ]
  }
 ],
 "metadata": {
  "kernelspec": {
   "display_name": ".venv",
   "language": "python",
   "name": "python3"
  },
  "language_info": {
   "codemirror_mode": {
    "name": "ipython",
    "version": 3
   },
   "file_extension": ".py",
   "mimetype": "text/x-python",
   "name": "python",
   "nbconvert_exporter": "python",
   "pygments_lexer": "ipython3",
   "version": "3.12.5"
  }
 },
 "nbformat": 4,
 "nbformat_minor": 2
}
